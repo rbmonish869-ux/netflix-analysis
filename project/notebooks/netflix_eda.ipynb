{
 "cells": [
  {
   "cell_type": "markdown",
   "metadata": {},
   "source": ["# 🎬 Netflix Data Analysis\n",
              "Exploratory Data Analysis on the Netflix Titles dataset."]
  },
  {
   "cell_type": "code",
   "execution_count": null,
   "metadata": {},
   "outputs": [],
   "source": ["import pandas as pd\n",
              "import matplotlib.pyplot as plt\n",
              "import seaborn as sns\n",
              "\n",
              "df = pd.read_csv('data/netflix_titles.csv')\n",
              "df.head()"]
  }
 ],
 "metadata": {},
 "nbformat": 4,
 "nbformat_minor": 2
}